{
 "cells": [
  {
   "cell_type": "markdown",
   "id": "c9f6ec9f",
   "metadata": {},
   "source": [
    "# question no - 1"
   ]
  },
  {
   "cell_type": "code",
   "execution_count": 1,
   "id": "020dee53",
   "metadata": {},
   "outputs": [
    {
     "ename": "NameError",
     "evalue": "name 'Ten' is not defined",
     "output_type": "error",
     "traceback": [
      "\u001b[1;31m---------------------------------------------------------------------------\u001b[0m",
      "\u001b[1;31mNameError\u001b[0m                                 Traceback (most recent call last)",
      "Input \u001b[1;32mIn [1]\u001b[0m, in \u001b[0;36m<cell line: 3>\u001b[1;34m()\u001b[0m\n\u001b[0;32m      1\u001b[0m TEN \u001b[38;5;241m=\u001b[39m \u001b[38;5;241m10\u001b[39m \n\u001b[0;32m      2\u001b[0m ten \u001b[38;5;241m=\u001b[39m \u001b[38;5;241m10\u001b[39m\n\u001b[1;32m----> 3\u001b[0m \u001b[38;5;28mprint\u001b[39m(\u001b[43mTen\u001b[49m)\n",
      "\u001b[1;31mNameError\u001b[0m: name 'Ten' is not defined"
     ]
    }
   ],
   "source": [
    "TEN = 10 \n",
    "ten = 10\n",
    "print(Ten)"
   ]
  },
  {
   "cell_type": "markdown",
   "id": "5485acca",
   "metadata": {},
   "source": [
    "due to variable case sensetive means it will not found Ten name of variable so it has give error"
   ]
  },
  {
   "cell_type": "code",
   "execution_count": 2,
   "id": "12fd5edd",
   "metadata": {},
   "outputs": [
    {
     "ename": "TypeError",
     "evalue": "'str' object is not callable",
     "output_type": "error",
     "traceback": [
      "\u001b[1;31m---------------------------------------------------------------------------\u001b[0m",
      "\u001b[1;31mTypeError\u001b[0m                                 Traceback (most recent call last)",
      "Input \u001b[1;32mIn [2]\u001b[0m, in \u001b[0;36m<cell line: 3>\u001b[1;34m()\u001b[0m\n\u001b[0;32m      1\u001b[0m \u001b[38;5;28mprint\u001b[39m \u001b[38;5;241m=\u001b[39m \u001b[38;5;124m\"\u001b[39m\u001b[38;5;124mhii there\u001b[39m\u001b[38;5;124m\"\u001b[39m\n\u001b[0;32m      2\u001b[0m \u001b[38;5;28mtype\u001b[39m(\u001b[38;5;28mprint\u001b[39m)\n\u001b[1;32m----> 3\u001b[0m \u001b[38;5;28;43mprint\u001b[39;49m\u001b[43m(\u001b[49m\u001b[38;5;28;43mprint\u001b[39;49m\u001b[43m)\u001b[49m\n",
      "\u001b[1;31mTypeError\u001b[0m: 'str' object is not callable"
     ]
    }
   ],
   "source": [
    "print = \"hii there\"\n",
    "type(print)\n",
    "print(print)"
   ]
  },
  {
   "cell_type": "markdown",
   "id": "a722a0ec",
   "metadata": {},
   "source": [
    "becuase print is reserved keyword so it will give error and we should not consider variable as reserved key word"
   ]
  },
  {
   "cell_type": "code",
   "execution_count": 3,
   "id": "2360a5f7",
   "metadata": {},
   "outputs": [
    {
     "ename": "TypeError",
     "evalue": "cannot unpack non-iterable int object",
     "output_type": "error",
     "traceback": [
      "\u001b[1;31m---------------------------------------------------------------------------\u001b[0m",
      "\u001b[1;31mTypeError\u001b[0m                                 Traceback (most recent call last)",
      "Input \u001b[1;32mIn [3]\u001b[0m, in \u001b[0;36m<cell line: 1>\u001b[1;34m()\u001b[0m\n\u001b[1;32m----> 1\u001b[0m a, b, c \u001b[38;5;241m=\u001b[39m \u001b[38;5;241m10\u001b[39m\n",
      "\u001b[1;31mTypeError\u001b[0m: cannot unpack non-iterable int object"
     ]
    }
   ],
   "source": [
    "a, b, c = 10"
   ]
  },
  {
   "cell_type": "markdown",
   "id": "110810cd",
   "metadata": {},
   "source": [
    "because if we we want to store three values so we will have to give it three values "
   ]
  },
  {
   "cell_type": "code",
   "execution_count": 4,
   "id": "99aa19a3",
   "metadata": {},
   "outputs": [
    {
     "name": "stdout",
     "output_type": "stream",
     "text": [
      "Name: shubham singh\n",
      "place: prayagraj\n",
      "year_of_birth: 2002\n"
     ]
    },
    {
     "ename": "TypeError",
     "evalue": "unsupported operand type(s) for -: 'int' and 'str'",
     "output_type": "error",
     "traceback": [
      "\u001b[1;31m---------------------------------------------------------------------------\u001b[0m",
      "\u001b[1;31mTypeError\u001b[0m                                 Traceback (most recent call last)",
      "Input \u001b[1;32mIn [4]\u001b[0m, in \u001b[0;36m<cell line: 7>\u001b[1;34m()\u001b[0m\n\u001b[0;32m      4\u001b[0m place \u001b[38;5;241m=\u001b[39m \u001b[38;5;28minput\u001b[39m(\u001b[38;5;124m\"\u001b[39m\u001b[38;5;124mplace: \u001b[39m\u001b[38;5;124m\"\u001b[39m)\n\u001b[0;32m      5\u001b[0m year_of_birth \u001b[38;5;241m=\u001b[39m \u001b[38;5;28minput\u001b[39m(\u001b[38;5;124m\"\u001b[39m\u001b[38;5;124myear_of_birth: \u001b[39m\u001b[38;5;124m\"\u001b[39m)\n\u001b[1;32m----> 7\u001b[0m age \u001b[38;5;241m=\u001b[39m \u001b[38;5;241;43m2022\u001b[39;49m\u001b[43m \u001b[49m\u001b[38;5;241;43m-\u001b[39;49m\u001b[43m \u001b[49m\u001b[43myear_of_birth\u001b[49m\n\u001b[0;32m      9\u001b[0m \u001b[38;5;28mprint\u001b[39m(\u001b[38;5;124mf\u001b[39m\u001b[38;5;124m\"\"\"\u001b[39m\n\u001b[0;32m     10\u001b[0m \u001b[38;5;124mMy name is: \u001b[39m\u001b[38;5;132;01m{\u001b[39;00mname\u001b[38;5;132;01m}\u001b[39;00m\n\u001b[0;32m     11\u001b[0m \u001b[38;5;124mI live at: \u001b[39m\u001b[38;5;132;01m{\u001b[39;00mplace\u001b[38;5;132;01m}\u001b[39;00m\n\u001b[0;32m     12\u001b[0m \u001b[38;5;132;01m{\u001b[39;00mname\u001b[38;5;132;01m}\u001b[39;00m\u001b[38;5;124m is of age: \u001b[39m\u001b[38;5;132;01m{\u001b[39;00mage\u001b[38;5;132;01m}\u001b[39;00m\n\u001b[0;32m     13\u001b[0m \u001b[38;5;124m\"\"\"\u001b[39m)\n",
      "\u001b[1;31mTypeError\u001b[0m: unsupported operand type(s) for -: 'int' and 'str'"
     ]
    }
   ],
   "source": [
    "# calcualte the age of the user\n",
    "\n",
    "name = input(\"Name: \") # always gives you string values\n",
    "place = input(\"place: \")\n",
    "year_of_birth = input(\"year_of_birth: \")\n",
    "\n",
    "age = 2022 - year_of_birth\n",
    "\n",
    "print(f\"\"\"\n",
    "My name is: {name}\n",
    "I live at: {place}\n",
    "{name} is of age: {age}\n",
    "\"\"\")"
   ]
  },
  {
   "cell_type": "markdown",
   "id": "5490e104",
   "metadata": {},
   "source": [
    "because input is always give string type and we sustract integer into string so that it is not possible in python . for sunstracting we have to convert string into integer then after we can substract"
   ]
  },
  {
   "cell_type": "code",
   "execution_count": 5,
   "id": "ab115646",
   "metadata": {},
   "outputs": [
    {
     "ename": "TypeError",
     "evalue": "'str' object is not callable",
     "output_type": "error",
     "traceback": [
      "\u001b[1;31m---------------------------------------------------------------------------\u001b[0m",
      "\u001b[1;31mTypeError\u001b[0m                                 Traceback (most recent call last)",
      "Input \u001b[1;32mIn [5]\u001b[0m, in \u001b[0;36m<cell line: 3>\u001b[1;34m()\u001b[0m\n\u001b[0;32m      1\u001b[0m \u001b[38;5;66;03m#string to integer\u001b[39;00m\n\u001b[0;32m      2\u001b[0m a \u001b[38;5;241m=\u001b[39m \u001b[38;5;124m\"\u001b[39m\u001b[38;5;124m50.45\u001b[39m\u001b[38;5;124m\"\u001b[39m \u001b[38;5;66;03m# entering string\u001b[39;00m\n\u001b[1;32m----> 3\u001b[0m \u001b[38;5;28;43mprint\u001b[39;49m\u001b[43m(\u001b[49m\u001b[38;5;124;43mf\u001b[39;49m\u001b[38;5;124;43m\"\u001b[39;49m\u001b[38;5;124;43mdata type before:\u001b[39;49m\u001b[38;5;132;43;01m{\u001b[39;49;00m\u001b[38;5;28;43mtype\u001b[39;49m\u001b[43m(\u001b[49m\u001b[43ma\u001b[49m\u001b[43m)\u001b[49m\u001b[38;5;132;43;01m}\u001b[39;49;00m\u001b[38;5;124;43m\"\u001b[39;49m\u001b[43m)\u001b[49m\n\u001b[0;32m      4\u001b[0m a \u001b[38;5;241m=\u001b[39m \u001b[38;5;28mint\u001b[39m(a) \u001b[38;5;66;03m#trying to convert into integer\u001b[39;00m\n\u001b[0;32m      5\u001b[0m \u001b[38;5;28mprint\u001b[39m(\u001b[38;5;124mf\u001b[39m\u001b[38;5;124m\"\u001b[39m\u001b[38;5;124mdata type after:\u001b[39m\u001b[38;5;132;01m{\u001b[39;00m\u001b[38;5;28mtype\u001b[39m(a)\u001b[38;5;132;01m}\u001b[39;00m\u001b[38;5;124m\"\u001b[39m)\n",
      "\u001b[1;31mTypeError\u001b[0m: 'str' object is not callable"
     ]
    }
   ],
   "source": [
    "#string to integer\n",
    "a = \"50.45\" # entering string\n",
    "print(f\"data type before:{type(a)}\")\n",
    "a = int(a) #trying to convert into integer\n",
    "print(f\"data type after:{type(a)}\")"
   ]
  },
  {
   "cell_type": "markdown",
   "id": "6e88a2c2",
   "metadata": {},
   "source": [
    "in python we can not convert string into integer"
   ]
  },
  {
   "cell_type": "code",
   "execution_count": 6,
   "id": "01a73148",
   "metadata": {},
   "outputs": [
    {
     "ename": "TypeError",
     "evalue": "'str' object is not callable",
     "output_type": "error",
     "traceback": [
      "\u001b[1;31m---------------------------------------------------------------------------\u001b[0m",
      "\u001b[1;31mTypeError\u001b[0m                                 Traceback (most recent call last)",
      "Input \u001b[1;32mIn [6]\u001b[0m, in \u001b[0;36m<cell line: 3>\u001b[1;34m()\u001b[0m\n\u001b[0;32m      1\u001b[0m \u001b[38;5;66;03m# empty string to int\u001b[39;00m\n\u001b[0;32m      2\u001b[0m a \u001b[38;5;241m=\u001b[39m \u001b[38;5;124m\"\u001b[39m\u001b[38;5;124m\"\u001b[39m\n\u001b[1;32m----> 3\u001b[0m \u001b[38;5;28;43mprint\u001b[39;49m\u001b[43m(\u001b[49m\u001b[38;5;124;43mf\u001b[39;49m\u001b[38;5;124;43m\"\u001b[39;49m\u001b[38;5;124;43mdata type before:\u001b[39;49m\u001b[38;5;132;43;01m{\u001b[39;49;00m\u001b[38;5;28;43mtype\u001b[39;49m\u001b[43m(\u001b[49m\u001b[43ma\u001b[49m\u001b[43m)\u001b[49m\u001b[38;5;132;43;01m}\u001b[39;49;00m\u001b[38;5;124;43m , value of a :\u001b[39;49m\u001b[38;5;132;43;01m{\u001b[39;49;00m\u001b[43ma\u001b[49m\u001b[38;5;132;43;01m}\u001b[39;49;00m\u001b[38;5;124;43m\"\u001b[39;49m\u001b[43m)\u001b[49m\n\u001b[0;32m      4\u001b[0m a \u001b[38;5;241m=\u001b[39m \u001b[38;5;28mint\u001b[39m(a)\n\u001b[0;32m      5\u001b[0m \u001b[38;5;28mprint\u001b[39m(\u001b[38;5;124mf\u001b[39m\u001b[38;5;124m\"\u001b[39m\u001b[38;5;124mdata type after:\u001b[39m\u001b[38;5;132;01m{\u001b[39;00m\u001b[38;5;28mtype\u001b[39m(a)\u001b[38;5;132;01m}\u001b[39;00m\u001b[38;5;124m value of a : \u001b[39m\u001b[38;5;132;01m{\u001b[39;00ma\u001b[38;5;132;01m}\u001b[39;00m\u001b[38;5;124m\"\u001b[39m)\n",
      "\u001b[1;31mTypeError\u001b[0m: 'str' object is not callable"
     ]
    }
   ],
   "source": [
    "# empty string to int\n",
    "a = \"\"\n",
    "print(f\"data type before:{type(a)} , value of a :{a}\")\n",
    "a = int(a)\n",
    "print(f\"data type after:{type(a)} value of a : {a}\")"
   ]
  },
  {
   "cell_type": "markdown",
   "id": "4761c4f3",
   "metadata": {},
   "source": [
    "empty string to integer also we can not covert so it will give error"
   ]
  },
  {
   "cell_type": "markdown",
   "id": "cd6e4992",
   "metadata": {},
   "source": [
    "# que no. -2"
   ]
  },
  {
   "cell_type": "code",
   "execution_count": 3,
   "id": "c94a84b8",
   "metadata": {},
   "outputs": [
    {
     "name": "stdout",
     "output_type": "stream",
     "text": [
      "enter value A: 5\n",
      "enter value b: 2\n",
      "sum of A and B is 7\n",
      "mul of A and B is 10\n",
      "div of A and B is 2.5\n",
      "sqa of A and B is 25\n"
     ]
    }
   ],
   "source": [
    "A = int(input(\"enter value A: \"))\n",
    "B = int(input(\"enter value b: \"))\n",
    "print(f\"sum of A and B is {A + B}\")\n",
    "print(f\"mul of A and B is {A * B}\")\n",
    "print(f\"div of A and B is {A / B}\")\n",
    "print(f\"sqa of A and B is {A ** B}\")"
   ]
  },
  {
   "cell_type": "markdown",
   "id": "6ca424f4",
   "metadata": {},
   "source": [
    "# ques no - 3"
   ]
  },
  {
   "cell_type": "markdown",
   "id": "ea46fa7d",
   "metadata": {},
   "source": [
    "in python total 33 reserved key words\n",
    "False, def,\tif,\traise, None, del, import, return, True, elif, in, try, and, else,\tis,\twhile,  as,\texcept,\tlambda,\twith, assert,\tfinally,\tnonlocal,\tyield, break,\tfor,\tnot,\tclass,\tfrom,\tor,\tcontinue,\tglobal,\tpass,\n",
    "because if we use reserved keyword as variable if will confused in print statement and give error"
   ]
  },
  {
   "cell_type": "markdown",
   "id": "f4743faf",
   "metadata": {},
   "source": [
    "# que no - 4"
   ]
  },
  {
   "cell_type": "code",
   "execution_count": 5,
   "id": "425a0199",
   "metadata": {},
   "outputs": [
    {
     "name": "stdout",
     "output_type": "stream",
     "text": [
      "enter your first name: shubham\n",
      "enter your last name: singh\n",
      "singhshubham@gmail.com\n"
     ]
    }
   ],
   "source": [
    "firstname = input(\"enter your first name: \")\n",
    "lastname = input(\"enter your last name: \")\n",
    "print(f\"{lastname}{firstname}@gmail.com\")"
   ]
  },
  {
   "cell_type": "markdown",
   "id": "745f4dbf",
   "metadata": {},
   "source": [
    "# que no - 5"
   ]
  },
  {
   "cell_type": "code",
   "execution_count": 6,
   "id": "f21d88ce",
   "metadata": {},
   "outputs": [
    {
     "name": "stdout",
     "output_type": "stream",
     "text": [
      "hi i'm sunny\n",
      "my address is 22\u0003\n",
      "i earn 20$ daily\n"
     ]
    }
   ],
   "source": [
    "print(f'''hi i'm sunny\n",
    "my address is 22\\3\n",
    "i earn 20$ daily''')"
   ]
  },
  {
   "cell_type": "markdown",
   "id": "a0d6070d",
   "metadata": {},
   "source": [
    "# que no -6"
   ]
  },
  {
   "cell_type": "code",
   "execution_count": 2,
   "id": "056dc09e",
   "metadata": {},
   "outputs": [
    {
     "name": "stdout",
     "output_type": "stream",
     "text": [
      "enter your name: shubham singh\n",
      "enter your address: prayagraj\n",
      "enter our date: 07-05-2003\n",
      "enter your birth: 36-05-2001\n",
      "enter your email: shubhmsingh3636@gmail,com\n",
      " name - shubham singh\n",
      "address -prayagraj\n",
      "date - 07-05-2003\n",
      "birth - 36-05-2001\n",
      "email - shubhmsingh3636@gmail,com\n"
     ]
    }
   ],
   "source": [
    "name = input(\"enter your name: \")\n",
    "address = input(\"enter your address: \")\n",
    "date =  input(\"enter our date: \")\n",
    "birth = input(\"enter your birth: \")\n",
    "email = input(\"enter your email: \")\n",
    "print(f''' name - {name}\n",
    "address -{address}\n",
    "date - {date}\n",
    "birth - {birth}\n",
    "email - {email}''')\n"
   ]
  },
  {
   "cell_type": "markdown",
   "id": "1984f353",
   "metadata": {},
   "source": [
    "# que no - 7"
   ]
  },
  {
   "cell_type": "code",
   "execution_count": null,
   "id": "28e0ee6d",
   "metadata": {},
   "outputs": [],
   "source": []
  },
  {
   "cell_type": "code",
   "execution_count": 4,
   "id": "de30a6f5",
   "metadata": {},
   "outputs": [
    {
     "name": "stdout",
     "output_type": "stream",
     "text": [
      "<class 'float'>\n",
      "<class 'int'>\n",
      "22\n"
     ]
    }
   ],
   "source": [
    "a = 22.4 \n",
    "print(type(a)) #for showing its type\n",
    "a = int(a)\n",
    "print(type(a))\n",
    "print(a)"
   ]
  },
  {
   "cell_type": "code",
   "execution_count": 5,
   "id": "87e3938a",
   "metadata": {},
   "outputs": [
    {
     "name": "stdout",
     "output_type": "stream",
     "text": [
      "<class 'int'>\n",
      "<class 'complex'>\n",
      "(22+0j)\n"
     ]
    }
   ],
   "source": [
    "a = 22\n",
    "print(type(a))\n",
    "a = complex(a)\n",
    "print(type(a))\n",
    "print(a)"
   ]
  },
  {
   "cell_type": "code",
   "execution_count": null,
   "id": "64c25f00",
   "metadata": {},
   "outputs": [],
   "source": []
  }
 ],
 "metadata": {
  "kernelspec": {
   "display_name": "Python 3 (ipykernel)",
   "language": "python",
   "name": "python3"
  },
  "language_info": {
   "codemirror_mode": {
    "name": "ipython",
    "version": 3
   },
   "file_extension": ".py",
   "mimetype": "text/x-python",
   "name": "python",
   "nbconvert_exporter": "python",
   "pygments_lexer": "ipython3",
   "version": "3.9.12"
  }
 },
 "nbformat": 4,
 "nbformat_minor": 5
}
