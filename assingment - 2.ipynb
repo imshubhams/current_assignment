{
 "cells": [
  {
   "cell_type": "raw",
   "id": "1cd40c4c",
   "metadata": {},
   "source": [
    "1 - What is indentation error? Why indentation is important? Give one simple example?\n",
    "\n",
    "2- Correct the following code and write the comment where you made the correction?\n",
    "\n",
    " class_started = bool(input(\"Hey friend, is class started?: [0-False/1-True]\"))\n",
    "\n",
    "if class_started:\n",
    "   print(\"Since class started...\")\n",
    "   print(\"Lets concentrate\")\n",
    "else:\n",
    "     print(\"Since class is not started...\")\n",
    "     print(\"let's revise\")    \n",
    "HINT: Refer your data type conversion class\n",
    "\n",
    "3- Use if else condition to verify that dataype of input() method in python is always string.\n",
    "\n",
    "4 - Take 3 variables and assign integer values to them. Find the largest variable, by only using the if and else conditions.\n",
    "\n",
    "5- What would be the solution?\n",
    "\n",
    "True\n",
    "\n",
    "False\n",
    "\n",
    "a = 6\n",
    "b = 10\n",
    "print( not ( not a == 10 or not b == 10) )\n",
    "Find the answer as well as find out the reason behind the result? -\n",
    "\n",
    "case 1:\n",
    "  A = 5.0\n",
    "  B = 10/2\n",
    "  print(A is B)\n",
    "case 2:\n",
    "  A = 5.0\n",
    "  B = int(10/2)\n",
    "  print(A is B)\n",
    "case 3:\n",
    "  A = 5.0\n",
    "  B = float(10/2)\n",
    "  print(A is B)\n",
    "Try to understand the following examples and answer the question based on it -\n",
    "Arithmatic Operators\n",
    "\n",
    "Operation\tMeaning\n",
    "+\taddition\n",
    "-\tsubtraction\n",
    "*\tmultiplication\n",
    "/\ttrue division\n",
    "//\tinteger division\n",
    "%\tthe modulo operator\n",
    "Here +, -, *, / are regular arithmatic operators. Lets look at the // and % operators\n",
    "\n",
    "Usecase or examples -\n",
    "\n",
    "var_a = 5\n",
    "var_b = 25\n",
    "integer_division = var_b // var_a\n",
    "print(f\"integer division: {var_b}/{var_a}={integer_division}\")\n",
    "OUTPUT: integer division: 25/5=5\n",
    "\n",
    "var_a = 3\n",
    "var_b = 25\n",
    "integer_division = var_b // var_a\n",
    "print(f\"integer division: {var_b}/{var_a}={integer_division}\")\n",
    "OUTPUT: integer division: 25/3=8\n",
    "\n",
    "var_a = 5\n",
    "var_b = 25\n",
    "remainder = var_b % var_a\n",
    "print(f\"remainder: {var_b}/{var_a} is {remainder}\")\n",
    "OUTPUT: remainder: 25/5 is 0\n",
    "\n",
    "var_a = 3\n",
    "var_b = 25\n",
    "remainder = var_b % var_a\n",
    "print(f\"remainder: {var_b}/{var_a} is {remainder}\")\n",
    "OUTPUT: remainder: 25/3 is 1\n",
    "\n",
    "Answer below questions on the above theory -\n",
    "Write a program that asks the user to enter a number. You should print out a message to the user, either “That number is divisible by either 3 or 5”, or “That number is not divisible by either 3 or 5”. Be sure to consider the data type of the input you are taking in from the user. Use a single if/else block to solve this problem.\n",
    "\n",
    "Take user input for length and width. Then calculate the area of rectangle. Also print as per length and width whether its a square of rectangle.\n",
    "\n",
    "Take two variable radius_1 and radius_2 and calculate the area of circle_1 and circle_2. Also print which circle has large area. If area is equal then print area is equal.\n",
    "\n",
    "Check whether a year is leap year or not. Use nested if...else to solve this problem. A leap year is exactly divisible by 4 except for century years (years ending with 00). The century year is a leap year only if it is perfectly divisible by 400."
   ]
  },
  {
   "cell_type": "markdown",
   "id": "ec80e646",
   "metadata": {},
   "source": [
    "What is indentation error? Why indentation is important? Give one simple example?"
   ]
  },
  {
   "cell_type": "markdown",
   "id": "afad1168",
   "metadata": {},
   "source": [
    "answer -- after write condtional, looping ,fuction statement(if ,for ,while ,def) then after we want  to print some syntax then before printing we have to give some space those are called indentation .\n",
    "indentaion is important because its improves the readdability of the code."
   ]
  },
  {
   "cell_type": "code",
   "execution_count": 1,
   "id": "57da539a",
   "metadata": {},
   "outputs": [
    {
     "name": "stdout",
     "output_type": "stream",
     "text": [
      "enter your name : shubham singh\n",
      "enter your place: prayagraj\n",
      "hii, you are my old friend\n"
     ]
    }
   ],
   "source": [
    "name = input(\"enter your name : \")\n",
    "place = input(\"enter your place: \")\n",
    "if name == \"shubham singh\" and place == \"prayagraj\":\n",
    "    print(\"hii, you are my old friend\")\n",
    "else :\n",
    "    print(\" hii, I don't know who are you\")"
   ]
  },
  {
   "cell_type": "markdown",
   "id": "67de756d",
   "metadata": {},
   "source": [
    "answer -2"
   ]
  },
  {
   "cell_type": "code",
   "execution_count": 5,
   "id": "258c7c43",
   "metadata": {},
   "outputs": [
    {
     "name": "stdout",
     "output_type": "stream",
     "text": [
      "Hey friend, is class started?: its significance as : [0-False/any positive or negative number or float -True] ,[0-emptystring/1-any string],yesss\n",
      "Since class started...\n",
      "Lets concentrate\n"
     ]
    }
   ],
   "source": [
    "class_started = bool(input(\"Hey friend, is class started?: its significance as : [0-False/any positive or negative number or float -True] ,[0-emptystring/1-any string],\"))\n",
    "\n",
    "if class_started:\n",
    "   print(\"Since class started...\")\n",
    "   print(\"Lets concentrate\")\n",
    "else:\n",
    "   print(\"Since class is not started...\")\n",
    "   print(\"let's revise\")    "
   ]
  },
  {
   "cell_type": "markdown",
   "id": "9d34f0ed",
   "metadata": {},
   "source": [
    "answer -3"
   ]
  },
  {
   "cell_type": "code",
   "execution_count": 7,
   "id": "0234bf80",
   "metadata": {},
   "outputs": [
    {
     "name": "stdout",
     "output_type": "stream",
     "text": [
      "enter your choice:  56.3\n",
      "from here we can say that in input python print alayas string datatype\n"
     ]
    }
   ],
   "source": [
    "yours_choice = input(\"enter your choice:  \")\n",
    "if type(yours_choice) == str :\n",
    "    print(\"from here we can say that in input python print alayas string datatype\")\n",
    "else :\n",
    "    print(\" from here we can say that in input python is not print string datatype\")"
   ]
  },
  {
   "cell_type": "code",
   "execution_count": 8,
   "id": "6a0fd057",
   "metadata": {},
   "outputs": [
    {
     "name": "stdout",
     "output_type": "stream",
     "text": [
      "enter your choice:  -52\n",
      "from here we can say that in input python print alayas string datatype\n"
     ]
    }
   ],
   "source": [
    "yours_choice = input(\"enter your choice:  \")\n",
    "if type(yours_choice) == str :\n",
    "    print(\"from here we can say that in input python print alayas string datatype\")\n",
    "else :\n",
    "    print(\" from here we can say that in input python is not print string datatype\")\n",
    "    "
   ]
  },
  {
   "cell_type": "code",
   "execution_count": 9,
   "id": "3ad9a7cd",
   "metadata": {},
   "outputs": [
    {
     "name": "stdout",
     "output_type": "stream",
     "text": [
      "enter your choice:  shubham singh\n",
      "from here we can say that in input python print alayas string datatype\n"
     ]
    }
   ],
   "source": [
    "yours_choice = input(\"enter your choice:  \")\n",
    "if type(yours_choice) == str :\n",
    "    print(\"from here we can say that in input python print alayas string datatype\")\n",
    "else :\n",
    "    print(\" from here we can say that in input python is not print string datatype\")"
   ]
  },
  {
   "cell_type": "code",
   "execution_count": 10,
   "id": "62165d4e",
   "metadata": {},
   "outputs": [
    {
     "name": "stdout",
     "output_type": "stream",
     "text": [
      "enter your choice:  True\n",
      "from here we can say that in input python print alayas string datatype\n"
     ]
    }
   ],
   "source": [
    "yours_choice = input(\"enter your choice:  \")\n",
    "if type(yours_choice) == str :\n",
    "    print(\"from here we can say that in input python print alayas string datatype\")\n",
    "else :\n",
    "    print(\" from here we can say that in input python is not print string datatype\")"
   ]
  },
  {
   "cell_type": "markdown",
   "id": "034c117c",
   "metadata": {},
   "source": [
    "answer - 4"
   ]
  },
  {
   "cell_type": "code",
   "execution_count": 19,
   "id": "3aa661c3",
   "metadata": {},
   "outputs": [
    {
     "name": "stdout",
     "output_type": "stream",
     "text": [
      "largest variable is c\n"
     ]
    }
   ],
   "source": [
    "a = 3\n",
    "b = 4\n",
    "c = 5\n",
    "if a > b and a > C:\n",
    "    Print(\"largest veriable is a\")\n",
    "if b > a and b > c:\n",
    "    print(\"largest variable is b\")\n",
    "else:\n",
    "    print(\"largest variable is c\")\n",
    "    \n"
   ]
  },
  {
   "cell_type": "markdown",
   "id": "db0151c6",
   "metadata": {},
   "source": [
    "answer - 5"
   ]
  },
  {
   "cell_type": "code",
   "execution_count": 16,
   "id": "0490327d",
   "metadata": {},
   "outputs": [
    {
     "name": "stdout",
     "output_type": "stream",
     "text": [
      "False\n"
     ]
    }
   ],
   "source": [
    "a = 6\n",
    "b = 10\n",
    "print( not ( not a == 10 or not b == 10) )"
   ]
  },
  {
   "cell_type": "markdown",
   "id": "10816bf8",
   "metadata": {},
   "source": [
    "answer - 6 "
   ]
  },
  {
   "cell_type": "code",
   "execution_count": 19,
   "id": "3e7576f3",
   "metadata": {},
   "outputs": [
    {
     "name": "stdout",
     "output_type": "stream",
     "text": [
      "False\n"
     ]
    }
   ],
   "source": [
    "A = 5.0\n",
    "B = 10/2\n",
    "print(A is B)\n"
   ]
  },
  {
   "cell_type": "code",
   "execution_count": 20,
   "id": "4f341573",
   "metadata": {},
   "outputs": [
    {
     "data": {
      "text/plain": [
       "(3115357891024, 3115357892496)"
      ]
     },
     "execution_count": 20,
     "metadata": {},
     "output_type": "execute_result"
    }
   ],
   "source": [
    "id(A) ,id(B)"
   ]
  },
  {
   "cell_type": "markdown",
   "id": "ed4bc157",
   "metadata": {},
   "source": [
    "it will give false because both A and B values memory locations are different."
   ]
  },
  {
   "cell_type": "raw",
   "id": "c468842b",
   "metadata": {},
   "source": [
    "case - 2"
   ]
  },
  {
   "cell_type": "code",
   "execution_count": 21,
   "id": "ce557ca9",
   "metadata": {},
   "outputs": [
    {
     "name": "stdout",
     "output_type": "stream",
     "text": [
      "False\n"
     ]
    }
   ],
   "source": [
    "A = 5.0\n",
    "B = int(10/2)\n",
    "print(A is B)"
   ]
  },
  {
   "cell_type": "code",
   "execution_count": 22,
   "id": "4a6c9e8c",
   "metadata": {},
   "outputs": [
    {
     "data": {
      "text/plain": [
       "(3115357891216, 3115243760048)"
      ]
     },
     "execution_count": 22,
     "metadata": {},
     "output_type": "execute_result"
    }
   ],
   "source": [
    "id(A) ,id(B)"
   ]
  },
  {
   "cell_type": "markdown",
   "id": "1f14645d",
   "metadata": {},
   "source": [
    "it will give false because both A and B values memory locations are different"
   ]
  },
  {
   "cell_type": "markdown",
   "id": "b4cd96ec",
   "metadata": {},
   "source": [
    "case -3"
   ]
  },
  {
   "cell_type": "code",
   "execution_count": 17,
   "id": "d96c5f2d",
   "metadata": {},
   "outputs": [
    {
     "name": "stdout",
     "output_type": "stream",
     "text": [
      "False\n"
     ]
    }
   ],
   "source": [
    "A = 5.0\n",
    "B = float(10/2)\n",
    "print(A is B)"
   ]
  },
  {
   "cell_type": "code",
   "execution_count": 18,
   "id": "1574c336",
   "metadata": {},
   "outputs": [
    {
     "data": {
      "text/plain": [
       "(3115357892496, 3115357891824)"
      ]
     },
     "execution_count": 18,
     "metadata": {},
     "output_type": "execute_result"
    }
   ],
   "source": [
    "id(A) ,id(B)"
   ]
  },
  {
   "cell_type": "markdown",
   "id": "599438f3",
   "metadata": {},
   "source": [
    "it will give false because both A and B values memory locations are different"
   ]
  },
  {
   "cell_type": "markdown",
   "id": "ebc83002",
   "metadata": {},
   "source": [
    "answer - 7"
   ]
  },
  {
   "cell_type": "code",
   "execution_count": 1,
   "id": "4631b49a",
   "metadata": {},
   "outputs": [
    {
     "name": "stdout",
     "output_type": "stream",
     "text": [
      "enter a number: 13\n",
      "13 is not devisible by either 3 or 5\n"
     ]
    }
   ],
   "source": [
    "a = int(input(\"enter a number: \"))\n",
    "if a%3==0 or a%5==0:\n",
    "    print(f\"{a} is devisible by either 3 or 5\")\n",
    "else:\n",
    "    print(f\"{a} is not devisible by either 3 or 5\")\n",
    "        "
   ]
  },
  {
   "cell_type": "code",
   "execution_count": 2,
   "id": "9a627bf6",
   "metadata": {},
   "outputs": [
    {
     "name": "stdout",
     "output_type": "stream",
     "text": [
      "enter a number: 15\n",
      "15 is devisible by either 3 or 5\n"
     ]
    }
   ],
   "source": [
    "a = int(input(\"enter a number: \"))\n",
    "if a%3==0 or a%5==0:\n",
    "    print(f\"{a} is devisible by either 3 or 5\")\n",
    "else:\n",
    "    print(f\"{a} is not devisible by either 3 or 5\")\n"
   ]
  },
  {
   "cell_type": "markdown",
   "id": "906dd9c0",
   "metadata": {},
   "source": [
    "answer - 8"
   ]
  },
  {
   "cell_type": "code",
   "execution_count": 6,
   "id": "9b887656",
   "metadata": {},
   "outputs": [
    {
     "name": "stdout",
     "output_type": "stream",
     "text": [
      "enter the length: 8\n",
      "enter the width:  5\n",
      "where lenght is 8 and width is 5 then area of ractangle is 40\n"
     ]
    }
   ],
   "source": [
    "length = int(input(\"enter the length: \"))\n",
    "width = int(input(\"enter the width:  \"))\n",
    "print(f\"where lenght is {length} and width is {width} then area of ractangle is {length*width}\")"
   ]
  },
  {
   "cell_type": "markdown",
   "id": "0c2e7e74",
   "metadata": {},
   "source": [
    "answer - 9"
   ]
  },
  {
   "cell_type": "code",
   "execution_count": 9,
   "id": "e47f6e26",
   "metadata": {},
   "outputs": [
    {
     "name": "stdout",
     "output_type": "stream",
     "text": [
      "enter 1st rd  3\n",
      "enter 2nd rd  4\n",
      "2nd circle area is large\n"
     ]
    }
   ],
   "source": [
    "rd_1 = int(input(\"enter 1st rd  \"))\n",
    "rd_2 = int(input(\"enter 2nd rd  \"))\n",
    "area_1 = 3.14*((rd_1)**2)\n",
    "area_2 = 3.14*((rd_2)**2)\n",
    "if area_1 > area_2:\n",
    "    print(\"1st circle area is large\")\n",
    "elif area_1 == area_2 :\n",
    "    print(\"both circle area is same\")\n",
    "else:\n",
    "    print(\"2nd circle area is large\")"
   ]
  },
  {
   "cell_type": "markdown",
   "id": "c906f750",
   "metadata": {},
   "source": [
    "answer -10"
   ]
  },
  {
   "cell_type": "code",
   "execution_count": 11,
   "id": "1fc72404",
   "metadata": {},
   "outputs": [
    {
     "name": "stdout",
     "output_type": "stream",
     "text": [
      "enter the year :  2012\n",
      "2012 is a leap year\n"
     ]
    }
   ],
   "source": [
    "year = int(input(\"enter the year :  \"))\n",
    "if year%400 ==0 and year%100==0 or year%4==0 and year%100!=0:\n",
    "        \n",
    "        print(f\"{year} is a leap year\")\n",
    "else:\n",
    "     print(f\"{year} is not a leap year\")      \n",
    "    \n",
    "    \n",
    "    "
   ]
  },
  {
   "cell_type": "code",
   "execution_count": null,
   "id": "6ef07fb4",
   "metadata": {},
   "outputs": [],
   "source": []
  },
  {
   "cell_type": "code",
   "execution_count": null,
   "id": "93f72f01",
   "metadata": {},
   "outputs": [],
   "source": []
  }
 ],
 "metadata": {
  "kernelspec": {
   "display_name": "Python 3 (ipykernel)",
   "language": "python",
   "name": "python3"
  },
  "language_info": {
   "codemirror_mode": {
    "name": "ipython",
    "version": 3
   },
   "file_extension": ".py",
   "mimetype": "text/x-python",
   "name": "python",
   "nbconvert_exporter": "python",
   "pygments_lexer": "ipython3",
   "version": "3.9.12"
  }
 },
 "nbformat": 4,
 "nbformat_minor": 5
}
